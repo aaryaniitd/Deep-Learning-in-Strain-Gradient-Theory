{
 "cells": [
  {
   "cell_type": "code",
   "execution_count": 1,
   "id": "36397292",
   "metadata": {},
   "outputs": [],
   "source": [
    "import numpy as np\n",
    "from physicsinformed_project1 import PhysicsInformedBarModel\n",
    "import torch\n",
    "import matplotlib.pyplot as plt\n",
    "import utilities"
   ]
  },
  {
   "cell_type": "code",
   "execution_count": 2,
   "id": "7b24044e",
   "metadata": {},
   "outputs": [],
   "source": [
    "samples = 50"
   ]
  },
  {
   "cell_type": "code",
   "execution_count": 3,
   "id": "5e57b2a4",
   "metadata": {},
   "outputs": [],
   "source": [
    "E =  1.44*(10**3)\n",
    "nu = 0.38\n",
    "P = 100*(10**-6)\n",
    "l = 11.01*(10**-6)\n",
    "L,b,h = 40*l,4*l,2*l\n",
    "I = (b*(h**3))/12\n",
    "mu = (E/(1+nu))*0.5*(10**-6)\n",
    "A = b*h\n",
    "D1 = (E*I)*(10**18)\n",
    "D2 = 0\n",
    "arr = np.zeros(50)\n",
    "arr[-1]= P\n",
    "distLoad = lambda x: P*x\n",
    "u0 = [0,0,0,0,0,0]\n",
    "# print(distLoad(0.0))\n",
    "# print(D1,D2)"
   ]
  },
  {
   "cell_type": "code",
   "execution_count": 4,
   "id": "2741c933",
   "metadata": {},
   "outputs": [
    {
     "name": "stdout",
     "output_type": "stream",
     "text": [
      "check 5\n",
      "check 5\n",
      "check 5\n",
      "check 5\n"
     ]
    }
   ],
   "source": [
    "pinnModel = PhysicsInformedBarModel(D1,D2, u0, dist_load = distLoad)"
   ]
  },
  {
   "cell_type": "code",
   "execution_count": 8,
   "id": "dc504bd3",
   "metadata": {},
   "outputs": [
    {
     "name": "stdout",
     "output_type": "stream",
     "text": [
      "1\n",
      "Epoch: 0/1999\t\tDifferential equation loss = 8.513e-09\t\tBoundary condition loss = 1.125e-08\t\tTotal loss = 1.977e-08\n",
      "Epoch: 100/1999\t\tDifferential equation loss = 1.155e-08\t\tBoundary condition loss = 2.620e-08\t\tTotal loss = 3.775e-08\n",
      "Epoch: 200/1999\t\tDifferential equation loss = 1.040e-08\t\tBoundary condition loss = 1.882e-08\t\tTotal loss = 2.922e-08\n",
      "Epoch: 300/1999\t\tDifferential equation loss = 9.864e-09\t\tBoundary condition loss = 1.563e-08\t\tTotal loss = 2.549e-08\n",
      "Epoch: 400/1999\t\tDifferential equation loss = 9.617e-09\t\tBoundary condition loss = 1.464e-08\t\tTotal loss = 2.425e-08\n",
      "Epoch: 500/1999\t\tDifferential equation loss = 9.489e-09\t\tBoundary condition loss = 1.408e-08\t\tTotal loss = 2.357e-08\n",
      "Epoch: 600/1999\t\tDifferential equation loss = 9.385e-09\t\tBoundary condition loss = 1.375e-08\t\tTotal loss = 2.313e-08\n",
      "Epoch: 700/1999\t\tDifferential equation loss = 9.315e-09\t\tBoundary condition loss = 1.344e-08\t\tTotal loss = 2.276e-08\n",
      "Epoch: 800/1999\t\tDifferential equation loss = 9.244e-09\t\tBoundary condition loss = 1.325e-08\t\tTotal loss = 2.249e-08\n",
      "Epoch: 900/1999\t\tDifferential equation loss = 9.168e-09\t\tBoundary condition loss = 1.309e-08\t\tTotal loss = 2.226e-08\n",
      "Epoch: 1000/1999\t\tDifferential equation loss = 9.115e-09\t\tBoundary condition loss = 1.289e-08\t\tTotal loss = 2.200e-08\n",
      "Epoch: 1100/1999\t\tDifferential equation loss = 9.057e-09\t\tBoundary condition loss = 1.277e-08\t\tTotal loss = 2.183e-08\n",
      "Epoch: 1200/1999\t\tDifferential equation loss = 9.013e-09\t\tBoundary condition loss = 1.267e-08\t\tTotal loss = 2.168e-08\n",
      "Epoch: 1300/1999\t\tDifferential equation loss = 8.993e-09\t\tBoundary condition loss = 1.259e-08\t\tTotal loss = 2.158e-08\n",
      "Epoch: 1400/1999\t\tDifferential equation loss = 8.964e-09\t\tBoundary condition loss = 1.257e-08\t\tTotal loss = 2.154e-08\n",
      "Epoch: 1500/1999\t\tDifferential equation loss = 8.939e-09\t\tBoundary condition loss = 1.259e-08\t\tTotal loss = 2.153e-08\n",
      "Epoch: 1600/1999\t\tDifferential equation loss = 8.926e-09\t\tBoundary condition loss = 1.257e-08\t\tTotal loss = 2.150e-08\n",
      "Epoch: 1700/1999\t\tDifferential equation loss = 8.906e-09\t\tBoundary condition loss = 1.257e-08\t\tTotal loss = 2.148e-08\n",
      "Epoch: 1800/1999\t\tDifferential equation loss = 8.891e-09\t\tBoundary condition loss = 1.257e-08\t\tTotal loss = 2.146e-08\n",
      "Epoch: 1900/1999\t\tDifferential equation loss = 8.885e-09\t\tBoundary condition loss = 1.257e-08\t\tTotal loss = 2.145e-08\n",
      "Epoch: 1999/1999\t\tDifferential equation loss = 8.869e-09\t\tBoundary condition loss = 1.258e-08\t\tTotal loss = 2.145e-08\n"
     ]
    }
   ],
   "source": [
    "for i in range(1):\n",
    "    epochs = 2000\n",
    "    learningRate = 1e-2\n",
    "    print(i+1)\n",
    "    pinnModel.train(epochs, optimizer='LBFGS', lr=learningRate)"
   ]
  },
  {
   "cell_type": "code",
   "execution_count": 6,
   "id": "dde36bd8",
   "metadata": {},
   "outputs": [
    {
     "name": "stdout",
     "output_type": "stream",
     "text": [
      "50.45917852457362\n",
      "tensor([0.], grad_fn=<SelectBackward0>) tensor([8.3085e-05], grad_fn=<SelectBackward0>) tensor([8.3053e-05], grad_fn=<SelectBackward0>) 0.0\n"
     ]
    }
   ],
   "source": [
    "x_test = utilities.generate_grid_1d(440.1*(10**-6), samples)\n",
    "u_test = pinnModel.get_displacements(x_test)\n",
    "yy = P*(L**3)/(3*E*I)\n",
    "print(yy)\n",
    "\n",
    "u_analytic = lambda x: yy*(1.5*((x/L)**2)-(0.5*((x/L)**3)))*0 #classical solution\n",
    "\n",
    "print(x_test[0],u_test[0],u_test[-1],u_analytic(L))"
   ]
  },
  {
   "cell_type": "code",
   "execution_count": 7,
   "id": "813bd44f",
   "metadata": {
    "scrolled": true
   },
   "outputs": [
    {
     "data": {
      "image/png": "[encoded data removed]",
      "text/plain": [
       "<Figure size 288x216 with 1 Axes>"
      ]
     },
     "metadata": {
      "needs_background": "light"
     },
     "output_type": "display_data"
    },
    {
     "data": {
      "image/png": "[encoded data removed]",
      "text/plain": [
       "<Figure size 288x216 with 1 Axes>"
      ]
     },
     "metadata": {
      "needs_background": "light"
     },
     "output_type": "display_data"
    }
   ],
   "source": [
    "utilities.plot_displacements_bar(x_test, u_test, u_analytic)\n",
    "\n",
    "pinnModel.plot_training_history()"
   ]
  },
  {
   "cell_type": "code",
   "execution_count": null,
   "id": "cdf62095",
   "metadata": {},
   "outputs": [],
   "source": []
  },
  {
   "cell_type": "code",
   "execution_count": null,
   "id": "3449c4a5",
   "metadata": {},
   "outputs": [],
   "source": []
  }
 ],
 "metadata": {
  "kernelspec": {
   "display_name": "Python 3 (ipykernel)",
   "language": "python",
   "name": "python3"
  },
  "language_info": {
   "codemirror_mode": {
    "name": "ipython",
    "version": 3
   },
   "file_extension": ".py",
   "mimetype": "text/x-python",
   "name": "python",
   "nbconvert_exporter": "python",
   "pygments_lexer": "ipython3",
   "version": "3.9.6"
  }
 },
 "nbformat": 4,
 "nbformat_minor": 5
}
